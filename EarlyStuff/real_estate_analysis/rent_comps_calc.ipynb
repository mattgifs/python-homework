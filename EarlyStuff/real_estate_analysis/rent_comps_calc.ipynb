{
 "cells": [
  {
   "cell_type": "code",
   "execution_count": 37,
   "id": "d50fadce-cec6-4669-a204-ec248b60751f",
   "metadata": {},
   "outputs": [],
   "source": [
    "#import libraries\n",
    "import pandas as pd\n",
    "%matplotlib inline"
   ]
  },
  {
   "cell_type": "code",
   "execution_count": 38,
   "id": "5e5c51ed-c9f2-4993-a8c3-59de67f981c1",
   "metadata": {},
   "outputs": [
    {
     "name": "stdin",
     "output_type": "stream",
     "text": [
      "Enter number:  2000\n",
      "Enter number:  3000\n",
      "Enter number:  2888\n",
      "Enter number:  5849\n",
      "Enter number:  5241\n"
     ]
    },
    {
     "name": "stdout",
     "output_type": "stream",
     "text": [
      "Max Comp Rent: $5849.0\n",
      "Average Rent of Comps is $3795.6\n",
      "Min Comp Rent: $2000.0\n",
      "Comps Included: 5\n"
     ]
    }
   ],
   "source": [
    "#Initialize empty list for Comparable Rents (user input)\n",
    "comparable_list = []\n",
    "\n",
    "#initialize vars\n",
    "sum_comp = 0\n",
    "min_comp = 100000\n",
    "max_comp = 0\n",
    "len_comp = 0\n",
    "\n",
    "#for loop - 5 values entered\n",
    "for i in range(0,5):\n",
    "    \n",
    "    #input as float\n",
    "    s = float(input(\"Enter number: \"))\n",
    "    \n",
    "    #append to list\n",
    "    comparable_list.append(s)\n",
    "    \n",
    "    #sum floats\n",
    "    sum_comp = sum_comp + s    #or use sum_comp += s\n",
    "    \n",
    "    #count inputs\n",
    "    len_comp += 1\n",
    "    \n",
    "    #find min\n",
    "    if s == 100000:\n",
    "        min_comp = s\n",
    "    elif s < min_comp:\n",
    "        min_comp = s\n",
    "    \n",
    "    #find max\n",
    "    if s == 0:\n",
    "        max_comp = s\n",
    "    elif s > max_comp:\n",
    "        max_comp = s\n",
    "        \n",
    "avg_comp = sum_comp / len_comp\n",
    "print(f'Max Comp Rent: ${max_comp}')\n",
    "print(f'Average Rent of Comps is ${avg_comp}')\n",
    "print(f'Min Comp Rent: ${min_comp}')\n",
    "print(f'Comps Included: {len_comp}')\n"
   ]
  },
  {
   "cell_type": "code",
   "execution_count": 39,
   "id": "23aca665-c5ab-4a73-a848-61f6d755dcd8",
   "metadata": {},
   "outputs": [],
   "source": [
    "#plotting next?"
   ]
  },
  {
   "cell_type": "code",
   "execution_count": null,
   "id": "4a7dc8ff-d3c5-48c6-be2e-79ade177dc31",
   "metadata": {},
   "outputs": [],
   "source": []
  }
 ],
 "metadata": {
  "kernelspec": {
   "display_name": "Python 3 (ipykernel)",
   "language": "python",
   "name": "python3"
  },
  "language_info": {
   "codemirror_mode": {
    "name": "ipython",
    "version": 3
   },
   "file_extension": ".py",
   "mimetype": "text/x-python",
   "name": "python",
   "nbconvert_exporter": "python",
   "pygments_lexer": "ipython3",
   "version": "3.10.10"
  }
 },
 "nbformat": 4,
 "nbformat_minor": 5
}
